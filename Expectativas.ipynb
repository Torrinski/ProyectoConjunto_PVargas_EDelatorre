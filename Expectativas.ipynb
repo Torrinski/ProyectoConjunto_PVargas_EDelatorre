{
 "cells": [
  {
   "cell_type": "markdown",
   "metadata": {},
   "source": [
    "# Expectativas del curso"
   ]
  },
  {
   "cell_type": "markdown",
   "metadata": {},
   "source": [
    "## Lo que espero del curso"
   ]
  },
  {
   "cell_type": "markdown",
   "metadata": {},
   "source": [
    "### Pablo (estudiante 1)\n",
    "Espero aprender mucho de este curso, lo necesario y un poco mas para empezar a programar. me interesa tambien todo esto de las aplicaciones que hacemos, que se puede hacer en conjunto. gitkraken y github se me hacen muy utiles para lo laboral asi como lo estudiantil.\n",
    "\n",
    "### Emilio (estudiante 2)\n",
    "Yo espero que este curso me sea útil para expandir mi campo de acción laboral en esto de la programacion porque se me hace algo sumamente útil y una vez que le entiendes bien supongo que se va haciendo mas fáci trabajar en esto. El programar simplifica mucho trabajo a mano."
   ]
  },
  {
   "cell_type": "markdown",
   "metadata": {},
   "source": [
    "## Imagenes\n",
    "<img src= \"https://upload.wikimedia.org/wikipedia/commons/d/db/Logo_ITESO_normal.jpg\"width=\"200px\" height=\"200px\" alt=\"atom\"/>\n",
    "\n",
    "<img src= \"https://3enruta.com/wp-content/uploads/2013/12/IMG_2421-1024x768.jpg\">"
   ]
  },
  {
   "cell_type": "markdown",
   "metadata": {},
   "source": [
    "> ## Ecuaciones latex\n",
    ">$$x_{1/2} = - \\frac{p}{2}{ \\pm \\sqrt {\\left( \\frac{p}{2} \\right)^2 - q}}\t$$\n",
    "\n",
    "\n",
    "\n",
    ">\\begin{equation}\n",
    "y(x_{i}) = \\sin(x_{i})^{2}\n",
    "\\end{equation}"
   ]
  },
  {
   "cell_type": "markdown",
   "metadata": {},
   "source": [
    "### Tablas\n",
    "| Day     | trabajo | pago  |\n",
    "| --------|---------|-------|\n",
    "| lunes   | asistio | $\\$70$|\n",
    "| martes  |no asistio| $\\$0$|"
   ]
  },
  {
   "cell_type": "code",
   "execution_count": null,
   "metadata": {
    "collapsed": true
   },
   "outputs": [],
   "source": []
  }
 ],
 "metadata": {
  "anaconda-cloud": {},
  "kernelspec": {
   "display_name": "Python [default]",
   "language": "python",
   "name": "python3"
  },
  "language_info": {
   "codemirror_mode": {
    "name": "ipython",
    "version": 3
   },
   "file_extension": ".py",
   "mimetype": "text/x-python",
   "name": "python",
   "nbconvert_exporter": "python",
   "pygments_lexer": "ipython3",
   "version": "3.5.2"
  }
 },
 "nbformat": 4,
 "nbformat_minor": 2
}
