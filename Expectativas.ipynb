{
 "cells": [
  {
   "cell_type": "markdown",
   "metadata": {},
   "source": [
    "# expectativas del curso"
   ]
  },
  {
   "cell_type": "markdown",
   "metadata": {},
   "source": [
    "## lo que espero del curso"
   ]
  },
  {
   "cell_type": "markdown",
   "metadata": {},
   "source": [
    "espero aprender mucho de este curso, lo necesario y un poco mas para empezar a programar. me interesa tambien todo esto de las aplicaciones que hacemos, que se puede hacer en conjunto. gitkraken y github se me hacen muy utiles para lo laboral asi como lo estudiantil."
   ]
  },
  {
   "cell_type": "markdown",
   "metadata": {},
   "source": [
    "## imagen\n",
    "<img src= \"https://upload.wikimedia.org/wikipedia/commons/d/db/Logo_ITESO_normal.jpg\"width=\"200px\" height=\"200px\" alt=\"atom\"/>"
   ]
  },
  {
   "cell_type": "markdown",
   "metadata": {},
   "source": [
    "> ## Ecuacion latex\n",
    ">$$x_{1/2} = - \\frac{p}{2}{ \\pm \\sqrt {\\left( \\frac{p}{2} \\right)^2 - q}}\t$$"
   ]
  },
  {
   "cell_type": "markdown",
   "metadata": {},
   "source": [
    "### Tablas\n",
    "| Day     | trabajo | pago  |\n",
    "| --------|---------|-------|\n",
    "| lunes   | asistio | $\\$70$|\n",
    "| martes  |no asistio| $\\$0$|"
   ]
  },
  {
   "cell_type": "code",
   "execution_count": null,
   "metadata": {
    "collapsed": true
   },
   "outputs": [],
   "source": []
  }
 ],
 "metadata": {
  "kernelspec": {
   "display_name": "Python 3",
   "language": "python",
   "name": "python3"
  },
  "language_info": {
   "codemirror_mode": {
    "name": "ipython",
    "version": 3
   },
   "file_extension": ".py",
   "mimetype": "text/x-python",
   "name": "python",
   "nbconvert_exporter": "python",
   "pygments_lexer": "ipython3",
   "version": "3.6.1"
  }
 },
 "nbformat": 4,
 "nbformat_minor": 2
}
